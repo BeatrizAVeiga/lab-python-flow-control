{
 "cells": [
  {
   "cell_type": "markdown",
   "id": "d3bfc191-8885-42ee-b0a0-bbab867c6f9f",
   "metadata": {
    "tags": []
   },
   "source": [
    "# Lab | Flow Control"
   ]
  },
  {
   "cell_type": "markdown",
   "id": "3851fcd1-cf98-4653-9c89-e003b7ec9400",
   "metadata": {},
   "source": [
    "## Exercise: Managing Customer Orders Optimized\n",
    "\n",
    "In the last lab, you were starting an online store that sells various products. To ensure smooth operations, you developed a program that manages customer orders and inventory.\n",
    "\n",
    "You did so without using flow control. Let's go a step further and improve this code.\n",
    "\n",
    "Follow the steps below to complete the exercise:\n",
    "\n",
    "1. Look at your code from the lab data structures, and improve repeated code with loops.\n",
    "\n",
    "2. Instead of asking the user to input the name of three products that a customer wants to order, do the following:\n",
    "    \n",
    "    a. Prompt the user to enter the name of a product that a customer wants to order.\n",
    "    \n",
    "    b. Add the product name to the \"customer_orders\" set.\n",
    "    \n",
    "    c. Ask the user if they want to add another product (yes/no).\n",
    "    \n",
    "    d. Continue the loop until the user does not want to add another product.\n",
    "\n",
    "3. Instead of updating the inventory by subtracting 1 from the quantity of each product, only do it for  the products that were ordered (those in \"customer_orders\")."
   ]
  },
  {
   "cell_type": "code",
   "execution_count": 1,
   "id": "0ecaa650-286e-4062-8995-2c127d32c8ee",
   "metadata": {},
   "outputs": [],
   "source": [
    "products = [\"t-shirt\", \"mug\", \"hat\", \"book\", \"keychain\"]\n",
    "inventory = {}\n",
    "customer_orders = set()"
   ]
  },
  {
   "cell_type": "code",
   "execution_count": 2,
   "id": "9ada0790-75b4-4418-b439-f1c6a3c6b7a9",
   "metadata": {},
   "outputs": [
    {
     "name": "stdin",
     "output_type": "stream",
     "text": [
      "Please provide the quantity available for t-shirt :  20\n",
      "Please provide the quantity available for mug :  20\n",
      "Please provide the quantity available for hat :  20\n",
      "Please provide the quantity available for book :  20\n",
      "Please provide the quantity available for keychain :  20\n"
     ]
    },
    {
     "name": "stdout",
     "output_type": "stream",
     "text": [
      "Inventory: {'t-shirt': 20, 'mug': 20, 'hat': 20, 'book': 20, 'keychain': 20}\n"
     ]
    }
   ],
   "source": [
    "for product in products:\n",
    "  quantities = int(input(f\"Please provide the quantity available for {product} : \"))\n",
    "  inventory[product] = quantities\n",
    "print(f\"Inventory: {inventory}\")"
   ]
  },
  {
   "cell_type": "code",
   "execution_count": 3,
   "id": "827ec950-9ab7-406c-a32d-30535eb4b81f",
   "metadata": {},
   "outputs": [
    {
     "name": "stdin",
     "output_type": "stream",
     "text": [
      "Write down a product that a customer wishes to order: mug\n",
      "Do you whish to order another product? yes\n",
      "Write down a product that a customer wishes to order: book\n",
      "Do you whish to order another product? yes\n",
      "Write down a product that a customer wishes to order: keychain\n",
      "Do you whish to order another product? no\n"
     ]
    },
    {
     "name": "stdout",
     "output_type": "stream",
     "text": [
      "Customer's orders : {'book', 'mug', 'keychain'}\n"
     ]
    }
   ],
   "source": [
    "while True:\n",
    "    orders = input(\"Write down a product that a customer wishes to order:\")\n",
    "    if orders in products:\n",
    "        customer_orders.add(orders)\n",
    "        new_order = input(\"Do you whish to order another product?\")\n",
    "        if new_order == 'no':\n",
    "            break \n",
    "    else:\n",
    "        print(\"Please enter an available product!\")\n",
    "print(f\"Customer's orders : {customer_orders}\")"
   ]
  },
  {
   "cell_type": "code",
   "execution_count": 4,
   "id": "9649279a-d415-4f98-8a0a-568fdf67a2fc",
   "metadata": {},
   "outputs": [
    {
     "name": "stdout",
     "output_type": "stream",
     "text": [
      "Order Statistics:\n",
      "Total Products Ordered: 3 \n",
      "Percentage of Products Ordered: 3.0 % \n"
     ]
    }
   ],
   "source": [
    "total_products_ordered = len(customer_orders)\n",
    "percentage_ordered = (total_products_ordered / sum(inventory.values())) * 100\n",
    "order_status = (total_products_ordered, percentage_ordered)\n",
    "\n",
    "print(\"Order Statistics:\")\n",
    "print(f\"Total Products Ordered: {total_products_ordered} \")\n",
    "print(f\"Percentage of Products Ordered: {percentage_ordered} % \")"
   ]
  },
  {
   "cell_type": "code",
   "execution_count": 6,
   "id": "cb754763-937a-4295-ba95-0376876b37fe",
   "metadata": {},
   "outputs": [
    {
     "name": "stdout",
     "output_type": "stream",
     "text": [
      "Updated Inventory:\n",
      "We have 19 books!\n",
      "We have 19 mugs!\n",
      "We have 19 keychains!\n"
     ]
    }
   ],
   "source": [
    "for product in customer_orders:\n",
    "    if product in inventory:\n",
    "        inventory[product] -= 1\n",
    "print(\"Updated Inventory:\")\n",
    "for product in customer_orders:\n",
    "  if product in inventory:\n",
    "      print(f\"We have {inventory[product]} {product}s!\")"
   ]
  },
  {
   "cell_type": "code",
   "execution_count": 5,
   "id": "6e4cded1-a672-490d-a92e-fcdab2d106f1",
   "metadata": {},
   "outputs": [
    {
     "name": "stdout",
     "output_type": "stream",
     "text": [
      "{'book', 'mug', 'keychain'}\n"
     ]
    }
   ],
   "source": [
    "print(customer_orders)"
   ]
  },
  {
   "cell_type": "code",
   "execution_count": null,
   "id": "1f3bcff9-3277-4885-a6b2-1cc82278f06d",
   "metadata": {},
   "outputs": [],
   "source": []
  }
 ],
 "metadata": {
  "kernelspec": {
   "display_name": "Python 3 (ipykernel)",
   "language": "python",
   "name": "python3"
  },
  "language_info": {
   "codemirror_mode": {
    "name": "ipython",
    "version": 3
   },
   "file_extension": ".py",
   "mimetype": "text/x-python",
   "name": "python",
   "nbconvert_exporter": "python",
   "pygments_lexer": "ipython3",
   "version": "3.13.0"
  }
 },
 "nbformat": 4,
 "nbformat_minor": 5
}
